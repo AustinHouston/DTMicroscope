{
 "cells": [
  {
   "cell_type": "markdown",
   "metadata": {},
   "source": [
    "## Notebook to cluster eels spectrum from multiple locations."
   ]
  },
  {
   "cell_type": "code",
   "execution_count": null,
   "metadata": {},
   "outputs": [],
   "source": [
    "import matplotlib.pylab as plt\n",
    "import numpy as np\n",
    "import Pyro5.api\n",
    "from sklearn.decomposition import PCA\n",
    "from sklearn.cluster import KMeans"
   ]
  },
  {
   "cell_type": "code",
   "execution_count": null,
   "metadata": {},
   "outputs": [],
   "source": [
    "\n",
    "\n",
    "# Connect to the microscope server\n",
    "uri = \"PYRO:microscope.server@localhost:9091\"\n",
    "mic_server = Pyro5.api.Proxy(uri)\n",
    "\n",
    "# Initialize microscope and register data\n",
    "mic_server.initialize_microscope(\"STEM\")\n",
    "mic_server.register_data(\"data/test_stem.h5\")\n",
    "\n",
    "# Get overview image\n",
    "array_list, shape, dtype = mic_server.get_overview_image()\n",
    "im_array = np.array(array_list, dtype=dtype).reshape(shape)\n",
    "\n",
    "# Display the overview image\n",
    "plt.imshow(im_array)\n",
    "plt.axis(\"off\")\n",
    "plt.title(\"Overview Image\")\n",
    "plt.show()\n",
    "\n"
   ]
  },
  {
   "cell_type": "code",
   "execution_count": null,
   "metadata": {},
   "outputs": [],
   "source": [
    "\n",
    "# Query spectra from 100 locations\n",
    "spectra = []\n",
    "locations = []\n",
    "for x in range(10):\n",
    "    for y in range(10):\n",
    "        array_list, shape, dtype = mic_server.get_point_data(1, x, y)\n",
    "        spectrum = np.array(array_list, dtype=dtype).reshape(shape)\n",
    "        spectra.append(spectrum.flatten())  # Flatten each spectrum to make it 1D\n",
    "        locations.append((x, y))\n",
    "\n",
    "spectra = np.array(spectra)  # Convert list of spectra to a NumPy array\n",
    "\n",
    "\n"
   ]
  },
  {
   "cell_type": "code",
   "execution_count": null,
   "metadata": {},
   "outputs": [],
   "source": [
    "# Perform PCA to reduce to 2 dimensions\n",
    "pca = PCA(n_components=2)\n",
    "data_pca = pca.fit_transform(spectra)  # Now data_pca has shape (100, 2)\n",
    "\n",
    "# Perform K-means clustering with 3 clusters\n",
    "kmeans = KMeans(n_clusters=3, random_state=42)\n",
    "clusters = kmeans.fit_predict(data_pca)\n",
    "\n",
    "# Plotting the PCA results with clusters\n",
    "plt.figure(figsize=(8, 6))\n",
    "plt.scatter(data_pca[:, 0], data_pca[:, 1], c=clusters, cmap='viridis', marker='o', s=50)\n",
    "plt.xlabel('Principal Component 1')\n",
    "plt.ylabel('Principal Component 2')\n",
    "plt.title('PCA of Data with K-means Clustering')\n",
    "plt.colorbar(label='Cluster')\n",
    "plt.show()"
   ]
  },
  {
   "cell_type": "code",
   "execution_count": null,
   "metadata": {},
   "outputs": [],
   "source": []
  }
 ],
 "metadata": {
  "kernelspec": {
   "display_name": "dmclient_2",
   "language": "python",
   "name": "python3"
  },
  "language_info": {
   "codemirror_mode": {
    "name": "ipython",
    "version": 3
   },
   "file_extension": ".py",
   "mimetype": "text/x-python",
   "name": "python",
   "nbconvert_exporter": "python",
   "pygments_lexer": "ipython3",
   "version": "3.8.17"
  }
 },
 "nbformat": 4,
 "nbformat_minor": 2
}
