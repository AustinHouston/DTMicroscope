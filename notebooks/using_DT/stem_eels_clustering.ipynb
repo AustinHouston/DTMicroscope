{
 "cells": [
  {
   "cell_type": "markdown",
   "metadata": {},
   "source": [
    "## Notebook to cluster eels spectrum from multiple locations."
   ]
  },
  {
   "cell_type": "code",
   "execution_count": 1,
   "metadata": {},
   "outputs": [],
   "source": [
    "import matplotlib.pylab as plt\n",
    "import numpy as np\n",
    "import Pyro5.api\n",
    "from sklearn.decomposition import PCA\n",
    "from sklearn.cluster import KMeans"
   ]
  },
  {
   "cell_type": "code",
   "execution_count": 2,
   "metadata": {},
   "outputs": [
    {
     "ename": "CommunicationError",
     "evalue": "cannot connect to ('localhost', 9091): [Errno 61] Connection refused",
     "output_type": "error",
     "traceback": [
      "\u001b[0;31m---------------------------------------------------------------------------\u001b[0m",
      "\u001b[0;31mConnectionRefusedError\u001b[0m                    Traceback (most recent call last)",
      "File \u001b[0;32m~/opt/anaconda3/envs/dmclient_2/lib/python3.8/site-packages/Pyro5/client.py:310\u001b[0m, in \u001b[0;36mProxy.__pyroCreateConnection.<locals>.connect_and_handshake\u001b[0;34m(conn)\u001b[0m\n\u001b[1;32m    309\u001b[0m     sslContext \u001b[38;5;241m=\u001b[39m \u001b[38;5;28;01mNone\u001b[39;00m\n\u001b[0;32m--> 310\u001b[0m sock \u001b[38;5;241m=\u001b[39m \u001b[43msocketutil\u001b[49m\u001b[38;5;241;43m.\u001b[39;49m\u001b[43mcreate_socket\u001b[49m\u001b[43m(\u001b[49m\u001b[43mconnect\u001b[49m\u001b[38;5;241;43m=\u001b[39;49m\u001b[43mconnect_location\u001b[49m\u001b[43m,\u001b[49m\n\u001b[1;32m    311\u001b[0m \u001b[43m                                \u001b[49m\u001b[43mreuseaddr\u001b[49m\u001b[38;5;241;43m=\u001b[39;49m\u001b[43mconfig\u001b[49m\u001b[38;5;241;43m.\u001b[39;49m\u001b[43mSOCK_REUSE\u001b[49m\u001b[43m,\u001b[49m\n\u001b[1;32m    312\u001b[0m \u001b[43m                                \u001b[49m\u001b[43mtimeout\u001b[49m\u001b[38;5;241;43m=\u001b[39;49m\u001b[38;5;28;43mself\u001b[39;49m\u001b[38;5;241;43m.\u001b[39;49m\u001b[43m__pyroTimeout\u001b[49m\u001b[43m,\u001b[49m\n\u001b[1;32m    313\u001b[0m \u001b[43m                                \u001b[49m\u001b[43mnodelay\u001b[49m\u001b[38;5;241;43m=\u001b[39;49m\u001b[43mconfig\u001b[49m\u001b[38;5;241;43m.\u001b[39;49m\u001b[43mSOCK_NODELAY\u001b[49m\u001b[43m,\u001b[49m\n\u001b[1;32m    314\u001b[0m \u001b[43m                                \u001b[49m\u001b[43msslContext\u001b[49m\u001b[38;5;241;43m=\u001b[39;49m\u001b[43msslContext\u001b[49m\u001b[43m)\u001b[49m\n\u001b[1;32m    315\u001b[0m conn \u001b[38;5;241m=\u001b[39m socketutil\u001b[38;5;241m.\u001b[39mSocketConnection(sock, uri\u001b[38;5;241m.\u001b[39mobject)\n",
      "File \u001b[0;32m~/opt/anaconda3/envs/dmclient_2/lib/python3.8/site-packages/Pyro5/socketutil.py:283\u001b[0m, in \u001b[0;36mcreate_socket\u001b[0;34m(bind, connect, reuseaddr, keepalive, timeout, noinherit, ipv6, nodelay, sslContext)\u001b[0m\n\u001b[1;32m    282\u001b[0m \u001b[38;5;28;01mtry\u001b[39;00m:\n\u001b[0;32m--> 283\u001b[0m     \u001b[43msock\u001b[49m\u001b[38;5;241;43m.\u001b[39;49m\u001b[43mconnect\u001b[49m\u001b[43m(\u001b[49m\u001b[43mconnect\u001b[49m\u001b[43m)\u001b[49m\n\u001b[1;32m    284\u001b[0m \u001b[38;5;28;01mexcept\u001b[39;00m socket\u001b[38;5;241m.\u001b[39merror \u001b[38;5;28;01mas\u001b[39;00m xv:\n\u001b[1;32m    285\u001b[0m     \u001b[38;5;66;03m# This can happen when the socket is in non-blocking mode (or has a timeout configured).\u001b[39;00m\n\u001b[1;32m    286\u001b[0m     \u001b[38;5;66;03m# We check if it is a retryable errno (usually EINPROGRESS).\u001b[39;00m\n\u001b[1;32m    287\u001b[0m     \u001b[38;5;66;03m# If so, we use select() to wait until the socket is in writable state,\u001b[39;00m\n\u001b[1;32m    288\u001b[0m     \u001b[38;5;66;03m# essentially rebuilding a blocking connect() call.\u001b[39;00m\n",
      "\u001b[0;31mConnectionRefusedError\u001b[0m: [Errno 61] Connection refused",
      "\nThe above exception was the direct cause of the following exception:\n",
      "\u001b[0;31mCommunicationError\u001b[0m                        Traceback (most recent call last)",
      "Cell \u001b[0;32mIn[2], line 6\u001b[0m\n\u001b[1;32m      3\u001b[0m mic_server \u001b[38;5;241m=\u001b[39m Pyro5\u001b[38;5;241m.\u001b[39mapi\u001b[38;5;241m.\u001b[39mProxy(uri)\n\u001b[1;32m      5\u001b[0m \u001b[38;5;66;03m# Initialize microscope and register data\u001b[39;00m\n\u001b[0;32m----> 6\u001b[0m \u001b[43mmic_server\u001b[49m\u001b[38;5;241;43m.\u001b[39;49m\u001b[43minitialize_microscope\u001b[49m(\u001b[38;5;124m\"\u001b[39m\u001b[38;5;124mSTEM\u001b[39m\u001b[38;5;124m\"\u001b[39m)\n\u001b[1;32m      7\u001b[0m mic_server\u001b[38;5;241m.\u001b[39mregister_data(\u001b[38;5;124m\"\u001b[39m\u001b[38;5;124mdata/test_stem.h5\u001b[39m\u001b[38;5;124m\"\u001b[39m)\n\u001b[1;32m      9\u001b[0m \u001b[38;5;66;03m# Get overview image\u001b[39;00m\n",
      "File \u001b[0;32m~/opt/anaconda3/envs/dmclient_2/lib/python3.8/site-packages/Pyro5/client.py:101\u001b[0m, in \u001b[0;36mProxy.__getattr__\u001b[0;34m(self, name)\u001b[0m\n\u001b[1;32m     99\u001b[0m \u001b[38;5;66;03m# get metadata if it's not there yet\u001b[39;00m\n\u001b[1;32m    100\u001b[0m \u001b[38;5;28;01mif\u001b[39;00m \u001b[38;5;129;01mnot\u001b[39;00m \u001b[38;5;28mself\u001b[39m\u001b[38;5;241m.\u001b[39m_pyroMethods \u001b[38;5;129;01mand\u001b[39;00m \u001b[38;5;129;01mnot\u001b[39;00m \u001b[38;5;28mself\u001b[39m\u001b[38;5;241m.\u001b[39m_pyroAttrs:\n\u001b[0;32m--> 101\u001b[0m     \u001b[38;5;28;43mself\u001b[39;49m\u001b[38;5;241;43m.\u001b[39;49m\u001b[43m_pyroGetMetadata\u001b[49m\u001b[43m(\u001b[49m\u001b[43m)\u001b[49m\n\u001b[1;32m    102\u001b[0m \u001b[38;5;28;01mif\u001b[39;00m name \u001b[38;5;129;01min\u001b[39;00m \u001b[38;5;28mself\u001b[39m\u001b[38;5;241m.\u001b[39m_pyroAttrs:\n\u001b[1;32m    103\u001b[0m     \u001b[38;5;28;01mreturn\u001b[39;00m \u001b[38;5;28mself\u001b[39m\u001b[38;5;241m.\u001b[39m_pyroInvoke(\u001b[38;5;124m\"\u001b[39m\u001b[38;5;124m__getattr__\u001b[39m\u001b[38;5;124m\"\u001b[39m, (name,), \u001b[38;5;28;01mNone\u001b[39;00m)\n",
      "File \u001b[0;32m~/opt/anaconda3/envs/dmclient_2/lib/python3.8/site-packages/Pyro5/client.py:392\u001b[0m, in \u001b[0;36mProxy._pyroGetMetadata\u001b[0;34m(self, objectId, known_metadata)\u001b[0m\n\u001b[1;32m    390\u001b[0m \u001b[38;5;28;01mif\u001b[39;00m \u001b[38;5;28mself\u001b[39m\u001b[38;5;241m.\u001b[39m_pyroConnection \u001b[38;5;129;01mis\u001b[39;00m \u001b[38;5;28;01mNone\u001b[39;00m \u001b[38;5;129;01mand\u001b[39;00m \u001b[38;5;129;01mnot\u001b[39;00m known_metadata:\n\u001b[1;32m    391\u001b[0m     \u001b[38;5;28;01mtry\u001b[39;00m:\n\u001b[0;32m--> 392\u001b[0m         \u001b[38;5;28;43mself\u001b[39;49m\u001b[38;5;241;43m.\u001b[39;49m\u001b[43m__pyroCreateConnection\u001b[49m\u001b[43m(\u001b[49m\u001b[43m)\u001b[49m\n\u001b[1;32m    393\u001b[0m     \u001b[38;5;28;01mexcept\u001b[39;00m errors\u001b[38;5;241m.\u001b[39mPyroError:\n\u001b[1;32m    394\u001b[0m         log\u001b[38;5;241m.\u001b[39merror(\u001b[38;5;124m\"\u001b[39m\u001b[38;5;124mproblem getting metadata: cannot connect\u001b[39m\u001b[38;5;124m\"\u001b[39m)\n",
      "File \u001b[0;32m~/opt/anaconda3/envs/dmclient_2/lib/python3.8/site-packages/Pyro5/client.py:376\u001b[0m, in \u001b[0;36mProxy.__pyroCreateConnection\u001b[0;34m(self, replaceUri, connected_socket)\u001b[0m\n\u001b[1;32m    374\u001b[0m     \u001b[38;5;28mself\u001b[39m\u001b[38;5;241m.\u001b[39m_pyroLocalSocket \u001b[38;5;241m=\u001b[39m connected_socket\u001b[38;5;241m.\u001b[39mgetsockname()\n\u001b[1;32m    375\u001b[0m \u001b[38;5;28;01melse\u001b[39;00m:\n\u001b[0;32m--> 376\u001b[0m     \u001b[43mconnect_and_handshake\u001b[49m\u001b[43m(\u001b[49m\u001b[43mconn\u001b[49m\u001b[43m)\u001b[49m\n\u001b[1;32m    377\u001b[0m \u001b[38;5;66;03m# obtain metadata if this feature is enabled, and the metadata is not known yet\u001b[39;00m\n\u001b[1;32m    378\u001b[0m \u001b[38;5;28;01mif\u001b[39;00m \u001b[38;5;129;01mnot\u001b[39;00m \u001b[38;5;28mself\u001b[39m\u001b[38;5;241m.\u001b[39m_pyroMethods \u001b[38;5;129;01mand\u001b[39;00m \u001b[38;5;129;01mnot\u001b[39;00m \u001b[38;5;28mself\u001b[39m\u001b[38;5;241m.\u001b[39m_pyroAttrs:\n",
      "File \u001b[0;32m~/opt/anaconda3/envs/dmclient_2/lib/python3.8/site-packages/Pyro5/client.py:336\u001b[0m, in \u001b[0;36mProxy.__pyroCreateConnection.<locals>.connect_and_handshake\u001b[0;34m(conn)\u001b[0m\n\u001b[1;32m    334\u001b[0m         \u001b[38;5;28;01mraise\u001b[39;00m\n\u001b[1;32m    335\u001b[0m     \u001b[38;5;28;01melse\u001b[39;00m:\n\u001b[0;32m--> 336\u001b[0m         \u001b[38;5;28;01mraise\u001b[39;00m errors\u001b[38;5;241m.\u001b[39mCommunicationError(err) \u001b[38;5;28;01mfrom\u001b[39;00m \u001b[38;5;21;01mx\u001b[39;00m\n\u001b[1;32m    337\u001b[0m \u001b[38;5;28;01melse\u001b[39;00m:\n\u001b[1;32m    338\u001b[0m     handshake_response \u001b[38;5;241m=\u001b[39m \u001b[38;5;124m\"\u001b[39m\u001b[38;5;124m?\u001b[39m\u001b[38;5;124m\"\u001b[39m\n",
      "\u001b[0;31mCommunicationError\u001b[0m: cannot connect to ('localhost', 9091): [Errno 61] Connection refused"
     ]
    }
   ],
   "source": [
    "\n",
    "\n",
    "# Connect to the microscope server\n",
    "uri = \"PYRO:microscope.server@localhost:9091\"\n",
    "mic_server = Pyro5.api.Proxy(uri)\n",
    "\n",
    "# Initialize microscope and register data\n",
    "mic_server.initialize_microscope(\"STEM\")\n",
    "mic_server.register_data(\"data/test_stem.h5\")\n",
    "\n",
    "# Get overview image\n",
    "array_list, shape, dtype = mic_server.get_overview_image()\n",
    "im_array = np.array(array_list, dtype=dtype).reshape(shape)\n",
    "\n",
    "# Display the overview image\n",
    "plt.imshow(im_array)\n",
    "plt.axis(\"off\")\n",
    "plt.title(\"Overview Image\")\n",
    "plt.show()\n",
    "\n"
   ]
  },
  {
   "cell_type": "code",
   "execution_count": null,
   "metadata": {},
   "outputs": [],
   "source": [
    "\n",
    "# Query spectra from 100 locations\n",
    "spectra = []\n",
    "locations = []\n",
    "for x in range(10):\n",
    "    for y in range(10):\n",
    "        array_list, shape, dtype = mic_server.get_point_data(1, x, y)\n",
    "        spectrum = np.array(array_list, dtype=dtype).reshape(shape)\n",
    "        spectra.append(spectrum.flatten())  # Flatten each spectrum to make it 1D\n",
    "        locations.append((x, y))\n",
    "\n",
    "spectra = np.array(spectra)  # Convert list of spectra to a NumPy array\n",
    "\n",
    "\n"
   ]
  },
  {
   "cell_type": "code",
   "execution_count": null,
   "metadata": {},
   "outputs": [],
   "source": [
    "# Perform PCA to reduce to 2 dimensions\n",
    "pca = PCA(n_components=2)\n",
    "data_pca = pca.fit_transform(spectra)  # Now data_pca has shape (100, 2)\n",
    "\n",
    "# Perform K-means clustering with 3 clusters\n",
    "kmeans = KMeans(n_clusters=3, random_state=42)\n",
    "clusters = kmeans.fit_predict(data_pca)\n",
    "\n",
    "# Plotting the PCA results with clusters\n",
    "plt.figure(figsize=(8, 6))\n",
    "plt.scatter(data_pca[:, 0], data_pca[:, 1], c=clusters, cmap='viridis', marker='o', s=50)\n",
    "plt.xlabel('Principal Component 1')\n",
    "plt.ylabel('Principal Component 2')\n",
    "plt.title('PCA of Data with K-means Clustering')\n",
    "plt.colorbar(label='Cluster')\n",
    "plt.show()"
   ]
  },
  {
   "cell_type": "code",
   "execution_count": null,
   "metadata": {},
   "outputs": [],
   "source": []
  }
 ],
 "metadata": {
  "kernelspec": {
   "display_name": "dmclient_2",
   "language": "python",
   "name": "python3"
  },
  "language_info": {
   "codemirror_mode": {
    "name": "ipython",
    "version": 3
   },
   "file_extension": ".py",
   "mimetype": "text/x-python",
   "name": "python",
   "nbconvert_exporter": "python",
   "pygments_lexer": "ipython3",
   "version": "3.8.17"
  }
 },
 "nbformat": 4,
 "nbformat_minor": 2
}
