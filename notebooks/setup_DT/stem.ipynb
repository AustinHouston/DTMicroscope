{
 "cells": [
  {
   "cell_type": "markdown",
   "metadata": {},
   "source": [
    "## Example notebook for STEM simulator\n",
    "1. Setup the server\n",
    "2. initate the micrsocope\n",
    "3. register a dataset\n",
    "4. Query"
   ]
  },
  {
   "cell_type": "code",
   "execution_count": null,
   "metadata": {},
   "outputs": [],
   "source": [
    "## Upon release: run the server"
   ]
  },
  {
   "cell_type": "code",
   "execution_count": null,
   "metadata": {},
   "outputs": [],
   "source": [
    "\n",
    "import matplotlib.pylab as plt\n",
    "import numpy as np\n",
    "import Pyro5.api\n",
    "\n",
    "\n",
    "\n",
    "uri = \"PYRO:microscope.server@localhost:9091\"\n",
    "mic_server = Pyro5.api.Proxy(uri)\n",
    "mic_server.initialize_microscope(\"STEM\")\n",
    "mic_server.register_data(\"data/test_stem.h5\")\n",
    "# setup mic --> should return a help file about attributes and methods--->-- .help()\n",
    "# eg: get overview image is channel 0\n",
    "# say dataset 1 is 4dstem and dataset 2 is eels-si --> for dataset 2 it says I cant to 4dstem but I do eels \n",
    "array_list, shape, dtype = mic_server.get_overview_image()\n",
    "im_array = np.array(array_list, dtype=dtype).reshape(shape)\n",
    "plt.imshow(im_array)\n",
    "plt.axis(\"off\")\n",
    "plt.title(\"Overview Image\")\n",
    "plt.show()\n",
    "plt.close()\n",
    "array_list, shape, dtype= mic_server.get_point_data(1, 1, 1)\n",
    "spec_at_111 = np.array(array_list, dtype=dtype).reshape(shape)\n",
    "\n",
    "# plot two subigure, overview image witha mark where the spectrum is taken and then on side spectrum plot\n",
    "fig, ax = plt.subplots(1, 2, figsize=(10, 5))\n",
    "ax[0].imshow(im_array)\n",
    "ax[0].axis(\"off\")\n",
    "ax[0].set_title(\"Overview Image\")\n",
    "ax[0].plot(1, 1, 'ro')\n",
    "ax[1].plot(spec_at_111)\n",
    "ax[1].set_title(\"Spectrum at x=1 and y=1\")\n",
    "ax[1].set_xlabel('Energy (eV)')\n",
    "ax[1].set_ylabel('Intensity (a.u.)')\n",
    "plt.show()\n",
    "    \n",
    "    \n"
   ]
  },
  {
   "cell_type": "code",
   "execution_count": null,
   "metadata": {},
   "outputs": [],
   "source": []
  }
 ],
 "metadata": {
  "kernelspec": {
   "display_name": "dmclient_2",
   "language": "python",
   "name": "python3"
  },
  "language_info": {
   "codemirror_mode": {
    "name": "ipython",
    "version": 3
   },
   "file_extension": ".py",
   "mimetype": "text/x-python",
   "name": "python",
   "nbconvert_exporter": "python",
   "pygments_lexer": "ipython3",
   "version": "3.8.17"
  }
 },
 "nbformat": 4,
 "nbformat_minor": 2
}
