{
 "cells": [
  {
   "cell_type": "markdown",
   "id": "completed-missouri",
   "metadata": {},
   "source": [
    "# AFM Digital Twin: PID tuning Example\n",
    "\n",
    "[![Open In Colab](https://colab.research.google.com/assets/colab-badge.svg)](https://colab.research.google.com/github/pycroscopy/DTMicroscope/blob/13ce7cb5eb2863e586c9a92eb823cdaf0ed63961/notebooks/AFM/2_AFM_Imperfect_Probe_Example.ipynb)\n",
    "\n",
    "\n",
    "## Task Overview\n",
    "\n",
    "Participants are challenged to design techniques for accurately identifying and tuning **PID**. PID controllers are essential in SPM for maintaining precise probe positioning and control, but imperfections in these settings can lead to unstable or suboptimal scans. Fine-tuning the PID coefficients is crucial for ensuring consistent scan quality across different samples and environmental conditions.\n",
    "\n",
    "---\n",
    "\n",
    "### **Key Questions**\n",
    "\n",
    "> **Given a corrupted SPM image affected by PID imperfections, can we automatically detect these distortions and accurately reconstruct the original, undistorted image?**\n",
    "\n",
    "> **Can we develop automated methods to detect and adjust PID coefficient imperfections in SPM systems, allowing for optimal real-time tuning that enhances scan fidelity?**\n"
   ]
  },
  {
   "cell_type": "markdown",
   "id": "adjustable-edinburgh",
   "metadata": {},
   "source": [
    "# 1. Run server"
   ]
  },
  {
   "cell_type": "code",
   "execution_count": null,
   "id": "rubber-portuguese",
   "metadata": {},
   "outputs": [],
   "source": [
    "!pip install pyro5\n",
    "!pip install scifireaders\n",
    "!pip install sidpy\n",
    "!pip install pynsid\n",
    "!pip install git+https://github.com/pycroscopy/DTMicroscope.git"
   ]
  },
  {
   "cell_type": "code",
   "execution_count": null,
   "id": "center-dryer",
   "metadata": {},
   "outputs": [],
   "source": [
    "!run_server_afm"
   ]
  },
  {
   "cell_type": "markdown",
   "id": "loving-disabled",
   "metadata": {},
   "source": [
    "# 2. Client side"
   ]
  },
  {
   "cell_type": "code",
   "execution_count": 3,
   "id": "rough-launch",
   "metadata": {},
   "outputs": [],
   "source": [
    "import matplotlib.pylab as plt\n",
    "import numpy as np\n",
    "import Pyro5.api\n",
    "from IPython.display import clear_output, display"
   ]
  },
  {
   "cell_type": "markdown",
   "id": "amino-ranking",
   "metadata": {},
   "source": [
    "## 2.1 Get data"
   ]
  },
  {
   "cell_type": "code",
   "execution_count": null,
   "id": "brown-pillow",
   "metadata": {},
   "outputs": [],
   "source": [
    "!wget https://github.com/pycroscopy/DTMicroscope/raw/boris_dev/DTMicroscope/test/datasets/dset_spm1.h5"
   ]
  },
  {
   "cell_type": "markdown",
   "id": "handed-fellowship",
   "metadata": {},
   "source": [
    "## 2.2 Register Data to the Digital twin"
   ]
  },
  {
   "cell_type": "code",
   "execution_count": null,
   "id": "loaded-syntax",
   "metadata": {},
   "outputs": [],
   "source": [
    "uri = \"PYRO:microscope.server@localhost:9092\" #port for the AFM DT 9092\n",
    "mic_server = Pyro5.api.Proxy(uri)\n",
    "import sys\n",
    "\n",
    "if 'google.colab' in sys.modules:\n",
    "    mic_server.initialize_microscope(\"AFM\", data_path = r\"dset_spm1.h5\")\n",
    "else:\n",
    "    mic_server.initialize_microscope(\"AFM\", data_path = \"../test/datasets/dset_spm1.h5\")\n",
    "mic_server.setup_microscope(data_source = 'Compound_Dataset_1')#upload dataset?\n",
    "mic_server.get_dataset_info()"
   ]
  },
  {
   "cell_type": "markdown",
   "id": "chronic-performance",
   "metadata": {},
   "source": [
    "## PID imperfection effect\n",
    "\n",
    "> **Note:** In an AR interface, the user typically only has control over the **I coefficient**, while the **P** and **D** coefficients are set to 0. The parameter `dz` specifies the distance between the tip and the surface, simulating tapping mode."
   ]
  },
  {
   "cell_type": "code",
   "execution_count": null,
   "id": "supreme-scottish",
   "metadata": {},
   "outputs": [],
   "source": [
    "#Scan parameters: too low I value\n",
    "kwargs_low_I = {'I': 0.5, 'dz':5e-9, 'sample_rate': 2000}\n",
    "\n",
    "#Scan parameters: too high I value\n",
    "kwargs_high_I = {'I': 30, 'dz':5e-9, 'sample_rate': 2000}\n",
    "\n",
    "#Scan parameters: 'normal' I value\n",
    "kwargs_normal_I = {'I': 10, 'dz':5e-9, 'sample_rate': 2000}"
   ]
  },
  {
   "cell_type": "code",
   "execution_count": null,
   "id": "suffering-substitute",
   "metadata": {},
   "outputs": [],
   "source": [
    "#scan without modification\n",
    "array_list, shape, dtype  =  mic_server.get_scan(channels=['HeightRetrace',], modification=None)\n",
    "dat =  np.array(array_list, dtype=dtype).reshape(shape)\n",
    "\n",
    "#scan with reasonable I coef. \n",
    "mod_dict = [{'effect': 'real_PID', 'kwargs': kwargs_normal_I},]\n",
    "array_list, shape, dtype  =  mic_server.get_scan(channels=['HeightRetrace',], modification=mod_dict)\n",
    "dat_norm =  np.array(array_list, dtype=dtype).reshape(shape)\n",
    "\n",
    "#scan with too low I coef. \n",
    "mod_dict = [{'effect': 'real_PID', 'kwargs': kwargs_low_I},]\n",
    "array_list, shape, dtype  =  mic_server.get_scan(channels=['HeightRetrace',], modification=mod_dict)\n",
    "dat_low =  np.array(array_list, dtype=dtype).reshape(shape)\n",
    "\n",
    "#scan with too high I coef. \n",
    "mod_dict = [{'effect': 'real_PID', 'kwargs': kwargs_high_I},]\n",
    "array_list, shape, dtype  =  mic_server.get_scan(channels=['HeightRetrace',], modification=mod_dict)\n",
    "dat_high =  np.array(array_list, dtype=dtype).reshape(shape)\n",
    "dat_high.shape"
   ]
  },
  {
   "cell_type": "code",
   "execution_count": null,
   "id": "tired-wireless",
   "metadata": {},
   "outputs": [],
   "source": [
    "fig, ax = plt.subplots(1, 4, figsize=(14,3))\n",
    "\n",
    "ax[0].imshow(dat[0].T, cmap='cividis', origin='lower')\n",
    "ax[0].set_title('Initial scan')\n",
    "ax[1].imshow(dat_norm[0].T, cmap='cividis', origin='lower')\n",
    "ax[1].set_title('Good I coefficient')\n",
    "ax[2].imshow(dat_low[0].T, cmap='cividis', origin='lower')\n",
    "ax[2].set_title('Low I coefficient')\n",
    "ax[3].imshow(dat_high[0].T, cmap='cividis', origin='lower')\n",
    "ax[3].set_title('High I coefficient')"
   ]
  },
  {
   "cell_type": "markdown",
   "id": "found-commodity",
   "metadata": {},
   "source": [
    "### Effect of the scan direction and trace\n",
    "\n",
    "In SPM, users can typically specify the **scan direction**—either vertical or horizontal—and set the **trace parameter** to determine the scan's trajectory, either **forward** (left to right) or **backward** (right to left). These settings significantly impact the observed scan results, particularly in cases with imperfect PID settings.\n"
   ]
  },
  {
   "cell_type": "code",
   "execution_count": null,
   "id": "sublime-grounds",
   "metadata": {},
   "outputs": [],
   "source": [
    "#scan with too low I coef. \n",
    "mod_dict = [{'effect': 'real_PID', 'kwargs': kwargs_low_I},]\n",
    "array_list, shape, dtype  =  mic_server.get_scan(channels=['HeightRetrace',], \n",
    "                                                 modification=mod_dict,\n",
    "                                                 trace='forward',\n",
    "                                                 direction='horizontal')\n",
    "dat_low_hf =  np.array(array_list, dtype=dtype).reshape(shape)\n",
    "\n",
    "array_list, shape, dtype  =  mic_server.get_scan(channels=['HeightRetrace',], \n",
    "                                                 modification=mod_dict,\n",
    "                                                 trace='backward',\n",
    "                                                 direction='horizontal')\n",
    "dat_low_hb =  np.array(array_list, dtype=dtype).reshape(shape)\n",
    "\n",
    "array_list, shape, dtype  =  mic_server.get_scan(channels=['HeightRetrace',], \n",
    "                                                 modification=mod_dict,\n",
    "                                                 trace='forward',\n",
    "                                                 direction='vertical')\n",
    "dat_low_vf =  np.array(array_list, dtype=dtype).reshape(shape)\n",
    "\n",
    "array_list, shape, dtype  =  mic_server.get_scan(channels=['HeightRetrace',], \n",
    "                                                 modification=mod_dict,\n",
    "                                                 trace='backward',\n",
    "                                                 direction='vertical')\n",
    "dat_low_vb =  np.array(array_list, dtype=dtype).reshape(shape)"
   ]
  },
  {
   "cell_type": "code",
   "execution_count": null,
   "id": "surprised-relative",
   "metadata": {},
   "outputs": [],
   "source": [
    "fig, ax = plt.subplots(1, 4, figsize=(14,3))\n",
    "\n",
    "ax[0].imshow(dat_low_hf[0].T, cmap='cividis', origin='lower')\n",
    "ax[0].set_title('Low I, horiz.-forw.')\n",
    "ax[1].imshow(dat_low_hb[0].T, cmap='cividis', origin='lower')\n",
    "ax[1].set_title('Low I, horiz.-backw.')\n",
    "ax[2].imshow(dat_low_vf[0].T, cmap='cividis', origin='lower')\n",
    "ax[2].set_title('Low I, vert.-forw.')\n",
    "ax[3].imshow(dat_low_vb[0].T, cmap='cividis', origin='lower')\n",
    "ax[3].set_title('Low I, vert.-backw.')"
   ]
  },
  {
   "cell_type": "markdown",
   "id": "under-paragraph",
   "metadata": {},
   "source": [
    "### Single-line with PID"
   ]
  },
  {
   "cell_type": "code",
   "execution_count": null,
   "id": "polyphonic-motor",
   "metadata": {},
   "outputs": [],
   "source": [
    "array_list, shape, dtype  =  mic_server.scan_individual_line('vertical', \n",
    "                                                             channels=['HeightRetrace'], \n",
    "                                                             coord = -1e-6, \n",
    "                                                             modification=None, \n",
    "                                                             trace='forward')\n",
    "line = np.array(array_list, dtype=dtype).reshape(shape)\n",
    "\n",
    "#low I\n",
    "mod_dict = [{'effect': 'real_PID', 'kwargs': kwargs_low_I},]\n",
    "array_list, shape, dtype  =  mic_server.scan_individual_line('vertical', \n",
    "                                                             channels=['HeightRetrace'], \n",
    "                                                             coord = -1e-6, \n",
    "                                                             modification=None, \n",
    "                                                             trace='forward')\n",
    "line1 = np.array(array_list, dtype=dtype).reshape(shape)\n",
    "\n",
    "#high I\n",
    "mod_dict = [{'effect': 'real_PID', 'kwargs': kwargs_high_I},]\n",
    "array_list, shape, dtype  =  mic_server.scan_individual_line('vertical', \n",
    "                                                             channels=['HeightRetrace'], \n",
    "                                                             coord = -1e-6, \n",
    "                                                             modification=None, \n",
    "                                                             trace='forward')\n",
    "line2 = np.array(array_list, dtype=dtype).reshape(shape)\n",
    "\n",
    "#normal I\n",
    "mod_dict = [{'effect': 'real_PID', 'kwargs': kwargs_normal_I},]\n",
    "array_list, shape, dtype  =  mic_server.scan_individual_line('vertical', \n",
    "                                                             channels=['HeightRetrace'], \n",
    "                                                             coord = -1e-6, \n",
    "                                                             modification=None, \n",
    "                                                             trace='forward')\n",
    "line3 = np.array(array_list, dtype=dtype).reshape(shape)\n",
    "\n",
    "line1.shape"
   ]
  },
  {
   "cell_type": "code",
   "execution_count": null,
   "id": "assisted-library",
   "metadata": {},
   "outputs": [],
   "source": [
    "fig, ax = plt.subplots(1, 3, figsize=(10,3))\n",
    "\n",
    "\n",
    "ax[0].plot(line[0], color='b')\n",
    "ax[0].plot(line3[0], color='r')\n",
    "ax[0].set_title('Good I coefficient')\n",
    "\n",
    "ax[1].plot(line[0], color='b')\n",
    "ax[1].plot(line1[0], color='r')\n",
    "ax[1].set_title('Low I coefficient')\n",
    "\n",
    "ax[2].plot(line[0], color='b')\n",
    "ax[2].plot(line2[0], color='r')\n",
    "ax[2].set_title('High I coefficient')"
   ]
  }
 ],
 "metadata": {
  "kernelspec": {
   "display_name": "aespm",
   "language": "python",
   "name": "aespm"
  },
  "language_info": {
   "codemirror_mode": {
    "name": "ipython",
    "version": 3
   },
   "file_extension": ".py",
   "mimetype": "text/x-python",
   "name": "python",
   "nbconvert_exporter": "python",
   "pygments_lexer": "ipython3",
   "version": "3.11.9"
  }
 },
 "nbformat": 4,
 "nbformat_minor": 5
}
