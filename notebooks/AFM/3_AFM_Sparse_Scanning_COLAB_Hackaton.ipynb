{
 "cells": [
  {
   "cell_type": "markdown",
   "id": "sustainable-basket",
   "metadata": {},
   "source": [
    "# AFM Digital Twin: Image Reconstruction with Sparse Scanning\n",
    "\n",
    "[![Open In Colab](https://colab.research.google.com/assets/colab-badge.svg)](https://colab.research.google.com/github/pycroscopy/DTMicroscope/blob/main/notebooks/AFM/3_AFM_Sparse_Scanning_COLAB_Hackaton.ipynb)\n",
    "\n",
    "To reduce the time taken to acquire an image in AFM, it is preferable to not scan in a raster fashion but rather along a different trajectory, to acquire a subset of the pixels. This presents a problem of image reconstruction, because the sparse measurements need to be used to 'fill in' the missing pixels in the image.\n",
    "\n",
    "## Task Overview\n",
    "\n",
    "Participants are challenged to develop techniques for reconstructing images from **sparse scanning** data acquired using non-traditional trajectories, such as spirals or arcs.\n",
    "\n",
    "---\n",
    "\n",
    "### **Key Questions**\n",
    "\n",
    "> **Can we effectively reconstruct a complete AFM image from a subset of acquired pixels?**\n"
   ]
  },
  {
   "cell_type": "markdown",
   "id": "greatest-tractor",
   "metadata": {},
   "source": [
    "# 1. Run server"
   ]
  },
  {
   "cell_type": "code",
   "execution_count": null,
   "id": "maritime-soccer",
   "metadata": {},
   "outputs": [],
   "source": [
    "!pip install pyro5\n",
    "!pip install scifireaders\n",
    "!pip install sidpy\n",
    "!pip install pynsid\n",
    "!pip install git+https://github.com/pycroscopy/DTMicroscope.git"
   ]
  },
  {
   "cell_type": "code",
   "execution_count": null,
   "id": "saved-community",
   "metadata": {},
   "outputs": [],
   "source": [
    "!run_server_afm"
   ]
  },
  {
   "cell_type": "markdown",
   "id": "spectacular-immune",
   "metadata": {},
   "source": [
    "# 2. Client side"
   ]
  },
  {
   "cell_type": "code",
   "execution_count": 3,
   "id": "forbidden-postcard",
   "metadata": {},
   "outputs": [],
   "source": [
    "import matplotlib.pylab as plt\n",
    "import numpy as np\n",
    "import Pyro5.api\n",
    "from IPython.display import clear_output, display"
   ]
  },
  {
   "cell_type": "markdown",
   "id": "thorough-textbook",
   "metadata": {},
   "source": [
    "## 2.1 Get data"
   ]
  },
  {
   "cell_type": "code",
   "execution_count": null,
   "id": "romance-auction",
   "metadata": {},
   "outputs": [],
   "source": [
    "!wget https://github.com/pycroscopy/DTMicroscope/raw/boris_dev/DTMicroscope/test/datasets/dset_spm1.h5"
   ]
  },
  {
   "cell_type": "markdown",
   "id": "suspected-denial",
   "metadata": {},
   "source": [
    "## 2.2 Register Data to the Digital twin"
   ]
  },
  {
   "cell_type": "code",
   "execution_count": null,
   "id": "productive-exercise",
   "metadata": {},
   "outputs": [],
   "source": [
    "uri = \"PYRO:microscope.server@localhost:9092\" #port for the AFM DT 9092\n",
    "mic_server = Pyro5.api.Proxy(uri)\n",
    "import sys\n",
    "\n",
    "if 'google.colab' in sys.modules:\n",
    "    mic_server.initialize_microscope(\"AFM\", data_path = r\"dset_spm1.h5\")\n",
    "else:\n",
    "    mic_server.initialize_microscope(\"AFM\", data_path = \"../test/datasets/dset_spm1.h5\")\n",
    "mic_server.setup_microscope(data_source = 'Compound_Dataset_1')#upload dataset?\n",
    "mic_server.get_dataset_info()"
   ]
  },
  {
   "cell_type": "markdown",
   "id": "wanted-india",
   "metadata": {},
   "source": [
    "## Reconstruction from the sparce image"
   ]
  },
  {
   "cell_type": "code",
   "execution_count": null,
   "id": "trying-occasions",
   "metadata": {},
   "outputs": [],
   "source": [
    "#Let's do the simplest thing to speed up scanning: just start skipping lines.\n",
    "\n",
    "y_coords = np.linspace(mic_server.y_min, mic_server.y_max, 256)\n",
    "new_image = np.zeros(shape=(256, 256,2))\n",
    "mask = np.zeros(new_image.shape[:2])\n",
    "\n",
    "for ind,coord in enumerate(y_coords):\n",
    "    #Scan every 4th line\n",
    "    if ind%4==0:\n",
    "        line = mic_server.scan_individual_line('horizontal', coord = coord, channels=['Amplitude1Retrace', 'Phase1Retrace'])\n",
    "        new_image[ind,:,0] = line[0][0]\n",
    "        new_image[ind,:,1] = line[0][1]\n",
    "        mask[ind,:]=1\n",
    "\n",
    "fig, axes = plt.subplots(nrows=1, ncols=3, figsize=(10,5))\n",
    "axes[0].imshow(mask, interpolation = 'None')\n",
    "axes[0].set_title('Mask')\n",
    "axes[1].imshow(new_image[:,:,0])\n",
    "axes[2].imshow(new_image[:,:,1])\n",
    "axes[1].set_title('Amplitude')\n",
    "axes[2].set_title('Phase')"
   ]
  },
  {
   "cell_type": "markdown",
   "id": "greenhouse-kitty",
   "metadata": {},
   "source": [
    "### Biharmonic inpainting"
   ]
  },
  {
   "cell_type": "code",
   "execution_count": null,
   "id": "expected-clearing",
   "metadata": {},
   "outputs": [],
   "source": [
    "#A simple reconstruction algorithm is biharmonic inpainting. Let's try it\n",
    "\n",
    "from skimage.restoration import inpaint\n",
    "from sklearn.metrics import mean_absolute_error\n",
    "\n",
    "inverted_mask = np.full(mask.shape, 1)\n",
    "inverted_mask[mask==1]=0\n",
    "\n",
    "sparse_image = new_image[:,:,0]\n",
    "sparse_image_norm = (sparse_image - sparse_image.min()) / (sparse_image.max() - sparse_image.min())\n",
    "inpainted_image_amp = inpaint.inpaint_biharmonic(sparse_image_norm, inverted_mask)\n",
    "\n",
    "sparse_image = new_image[:,:,1]\n",
    "sparse_image_norm = (sparse_image - sparse_image.min()) / (sparse_image.max() - sparse_image.min())\n",
    "inpainted_image_phase = inpaint.inpaint_biharmonic(sparse_image_norm, inverted_mask)\n",
    "\n",
    "#compare to the ground truth to calculate error\n",
    "array_list, shape, dtype =  mic_server.get_scan(channels=['Amplitude1Retrace',])\n",
    "amp_data_gt =  np.array(array_list, dtype=dtype).reshape(shape)[0,:,:]\n",
    "\n",
    "array_list, shape, dtype =  mic_server.get_scan(channels=['Phase1Retrace',])\n",
    "phase_data_gt =  np.array(array_list, dtype=dtype).reshape(shape)[0,:,:]\n",
    "\n",
    "mae_amp = mean_absolute_error(amp_data_gt, inpainted_image_amp)\n",
    "mae_phase = mean_absolute_error(phase_data_gt, inpainted_image_phase)\n",
    "\n",
    "fig, axes = plt.subplots(nrows=1, ncols=2, figsize=(10,5))\n",
    "axes[0].imshow(inpainted_image_amp)\n",
    "axes[1].imshow(inpainted_image_phase)\n",
    "axes[0].set_title('Amplitude. MAE:{:.2f}'.format(mae_amp))\n",
    "axes[1].set_title('Phase, MAE:{:.2f}'.format(mae_phase))"
   ]
  }
 ],
 "metadata": {
  "kernelspec": {
   "display_name": "aespm",
   "language": "python",
   "name": "aespm"
  },
  "language_info": {
   "codemirror_mode": {
    "name": "ipython",
    "version": 3
   },
   "file_extension": ".py",
   "mimetype": "text/x-python",
   "name": "python",
   "nbconvert_exporter": "python",
   "pygments_lexer": "ipython3",
   "version": "3.11.9"
  }
 },
 "nbformat": 4,
 "nbformat_minor": 5
}
