{
 "cells": [
  {
   "cell_type": "markdown",
   "id": "forward-disaster",
   "metadata": {},
   "source": [
    "# AFM Digital Twin: Basic functionality\n",
    "\n",
    "[![Open In Colab](https://colab.research.google.com/assets/colab-badge.svg)](https://colab.research.google.com/github/pycroscopy/DTMicroscope/blob/main/notebooks/AFM/0_AFM_Basic_functionality_COLAB_Hackaton.ipynb)\n",
    "\n",
    "\n",
    "This notebook provides introductory examples for accessing and utilizing the **AFM Digital Twin**. These examples will guide you through the initial steps of opening the digital twin  configuring basic settings, and simulating AFM operations.\n"
   ]
  },
  {
   "cell_type": "markdown",
   "id": "actual-financing",
   "metadata": {},
   "source": [
    "# 1. Run server"
   ]
  },
  {
   "cell_type": "code",
   "execution_count": null,
   "id": "biological-liberia",
   "metadata": {},
   "outputs": [],
   "source": [
    "!pip install pyro5\n",
    "!pip install scifireaders\n",
    "!pip install sidpy\n",
    "!pip install pynsid\n",
    "!pip install git+https://github.com/pycroscopy/DTMicroscope.git"
   ]
  },
  {
   "cell_type": "code",
   "execution_count": null,
   "id": "completed-player",
   "metadata": {},
   "outputs": [],
   "source": [
    "!run_server_afm"
   ]
  },
  {
   "cell_type": "markdown",
   "id": "deluxe-shannon",
   "metadata": {},
   "source": [
    "# 2. Client side"
   ]
  },
  {
   "cell_type": "code",
   "execution_count": 3,
   "id": "imperial-assignment",
   "metadata": {},
   "outputs": [],
   "source": [
    "import matplotlib.pylab as plt\n",
    "import numpy as np\n",
    "import Pyro5.api\n",
    "from IPython.display import clear_output, display"
   ]
  },
  {
   "cell_type": "markdown",
   "id": "sacred-patient",
   "metadata": {},
   "source": [
    "## 2.1 Get data"
   ]
  },
  {
   "cell_type": "code",
   "execution_count": null,
   "id": "selective-roulette",
   "metadata": {},
   "outputs": [],
   "source": [
    "!wget https://github.com/pycroscopy/DTMicroscope/raw/boris_dev/DTMicroscope/test/datasets/dset_spm1.h5"
   ]
  },
  {
   "cell_type": "markdown",
   "id": "pregnant-assessment",
   "metadata": {},
   "source": [
    "## 2.2 Register Data to the Digital twin"
   ]
  },
  {
   "cell_type": "code",
   "execution_count": null,
   "id": "surrounded-hampton",
   "metadata": {},
   "outputs": [],
   "source": [
    "uri = \"PYRO:microscope.server@localhost:9092\" #port for the AFM DT 9092\n",
    "mic_server = Pyro5.api.Proxy(uri)\n",
    "import sys\n",
    "\n",
    "if 'google.colab' in sys.modules:\n",
    "    mic_server.initialize_microscope(\"AFM\", data_path = r\"dset_spm1.h5\")\n",
    "else:\n",
    "    mic_server.initialize_microscope(\"AFM\", data_path = \"../test/datasets/dset_spm1.h5\")\n",
    "mic_server.setup_microscope(data_source = 'Compound_Dataset_1')#upload dataset?\n",
    "mic_server.get_dataset_info()"
   ]
  },
  {
   "cell_type": "markdown",
   "id": "modern-thought",
   "metadata": {},
   "source": [
    "# 3. Basic AFM operations"
   ]
  },
  {
   "cell_type": "markdown",
   "id": "casual-preliminary",
   "metadata": {},
   "source": [
    "## 3.1 .get_scan()\n",
    "\n",
    "The `get_scan()` function retrieves scan data from the dataset, with the option to filter by specific channels. Use the `channels` attribute to specify desired channels, allowing you to query particular signals or data channels. For details on available channels, refer to `.get_dataset_info()`.\n",
    "\n",
    "The `direction` parameter specifies the fast-scanning axis, while the `trace` parameter emulates data acquisition on either the forward or backward pass. These settings are essential for accurately simulating the behavior of the real PID during scanning.\n",
    "\n",
    "The `modification` parameter allows the application of various imperfections to simulate realistic scanning conditions, such as the effects of a broken tip or non-ideal PID performance."
   ]
  },
  {
   "cell_type": "code",
   "execution_count": null,
   "id": "guided-skirt",
   "metadata": {},
   "outputs": [],
   "source": [
    "#scan without modification\n",
    "array_list, shape, dtype  =  mic_server.get_scan(channels=['HeightRetrace', 'Phase1Retrace'], \n",
    "                                                 modification=None,\n",
    "                                                 direction = 'horizontal',\n",
    "                                                 trace = 'forward')\n",
    "dat =  np.array(array_list, dtype=dtype).reshape(shape)\n",
    "dat.shape"
   ]
  },
  {
   "cell_type": "code",
   "execution_count": null,
   "id": "resident-creation",
   "metadata": {},
   "outputs": [],
   "source": [
    "fig, ax = plt.subplots(1, 2, figsize=(7,3))\n",
    "\n",
    "ax[0].imshow(dat[0].T, cmap='cividis', origin='lower')\n",
    "ax[0].set_title('HeightRetrace')\n",
    "ax[1].imshow(dat[1].T, cmap='cividis', origin='lower')\n",
    "ax[1].set_title('Phase1Retrace')"
   ]
  },
  {
   "cell_type": "markdown",
   "id": "equipped-attempt",
   "metadata": {},
   "source": [
    "## 3.2 .scanning_emulator()\n",
    "\n",
    "Generates a simulation of the scanning process, acquiring data in real-time line by line. \n",
    "\n",
    "- The `scan_rate` parameter controls the speed of the simulated scan.\n",
    "- Other parameters are consistent with those used in the `.get_scan()` method.\n"
   ]
  },
  {
   "cell_type": "code",
   "execution_count": null,
   "id": "racial-hungarian",
   "metadata": {},
   "outputs": [],
   "source": [
    "gen = mic_server.scanning_emulator(scanning_rate=0.5)\n",
    "k = 0\n",
    "\n",
    "print(f'Line {k}')\n",
    "line = next(gen)\n",
    "line = [np.array(l) for l in line]  # Convert list back to numpy array\n",
    "fig, ax = plt.subplots(1, len(line), figsize=(8,1.5))\n",
    "for i, ax_ in enumerate(ax):\n",
    "    ax_.plot(np.arange(len(line[i])), line[i])\n",
    "    ax_.set_xticks([])\n",
    "    ax_.set_yticks([])\n",
    "plt.ion()  # Enable interactive mode\n",
    "plt.show()\n",
    "k += 1\n",
    "\n",
    "while True:\n",
    "    line = next(gen)\n",
    "    line = [np.array(l) for l in line]  # Convert list back to numpy array\n",
    "    for i, ax_ in enumerate(ax):\n",
    "        ax_.lines[0].set_data(np.arange(len(line[i])), line[i])\n",
    "\n",
    "    clear_output(wait=True)\n",
    "    print(f'Line {k}')\n",
    "    display(fig)\n",
    "\n",
    "    k += 1"
   ]
  },
  {
   "cell_type": "markdown",
   "id": "voluntary-librarian",
   "metadata": {},
   "source": [
    "## 3.3 .scan_individual_line()\n",
    "\n",
    "Get an individual line either 'vertical' or 'horizontal' requested by the **real** coordinate.\n",
    "\n",
    "The `coord` parameter specifies the scan coordinate: the x-coordinate if `direction='vertical'` and the y-coordinate if `direction='horizontal'`.\n"
   ]
  },
  {
   "cell_type": "code",
   "execution_count": null,
   "id": "prospective-cross",
   "metadata": {},
   "outputs": [],
   "source": [
    "array_list, shape, dtype  = mic_server.scan_individual_line('vertical', coord = -1e-6, channels=['Amplitude1Retrace', 'Phase1Retrace'])\n",
    "line = np.array(array_list, dtype=dtype).reshape(shape)"
   ]
  },
  {
   "cell_type": "code",
   "execution_count": null,
   "id": "color-photograph",
   "metadata": {},
   "outputs": [],
   "source": [
    "fig, ax = plt.subplots(1, 2, figsize=(7,3))\n",
    "\n",
    "ax[0].plot(line[0].T, color='b')\n",
    "ax[0].set_title('Amplitude1Retrace')\n",
    "ax[1].plot(line[1].T, color='r')\n",
    "ax[1].set_title('Phase1Retrace')"
   ]
  },
  {
   "cell_type": "markdown",
   "id": "together-crawford",
   "metadata": {},
   "source": [
    "## 3.4 .scan_arbitrary_path()\n",
    "\n",
    "This method returns the response data for the specified channels, captured along the trajectory defined by the coordinate array.\n"
   ]
  },
  {
   "cell_type": "code",
   "execution_count": null,
   "id": "circular-groove",
   "metadata": {},
   "outputs": [],
   "source": [
    "corners = np.array([[-2e-6,2e-6],[1e-6,1.8e-6],[2.1e-6,2e-6]]) #real coordinates\n",
    "array_list, shape, dtype  = mic_server.get_scan(channels=['Amplitude1Retrace',])\n",
    "dat = np.array(array_list, dtype=dtype).reshape(shape)"
   ]
  },
  {
   "cell_type": "code",
   "execution_count": null,
   "id": "forced-ground",
   "metadata": {},
   "outputs": [],
   "source": [
    "fig = plt.figure(figsize=(6,6))\n",
    "plt.imshow(dat[0].T, origin='lower', extent=(mic_server.x_min, mic_server.x_max, mic_server.y_min, mic_server.y_max), cmap='cividis')\n",
    "plt.scatter(corners[:,0], corners[:,1], color='red')\n",
    "plt.plot(*corners.T, '--', color='red')\n",
    "plt.title('Trajectory')"
   ]
  },
  {
   "cell_type": "code",
   "execution_count": null,
   "id": "pleased-healthcare",
   "metadata": {},
   "outputs": [],
   "source": [
    "array_list, shape, dtype  = m.scan_arbitrary_path(path_points = corners.tolist(), channels=['Amplitude1Retrace'])\n",
    "line = np.array(array_list, dtype=dtype).reshape(shape)\n",
    "\n",
    "fig = plt.figure(figsize=(4,4))\n",
    "plt.plot(line[0])\n",
    "plt.ylabel('Response')"
   ]
  },
  {
   "cell_type": "markdown",
   "id": "incorrect-quest",
   "metadata": {},
   "source": [
    "## 3.5 .get_spectrum()\n",
    "\n",
    "If spectral data is available in the dataset, the `get_spectrum` method allows retrieval of the requested spectrum at the current probe position to simulate spectroscopic measurements.\n",
    "\n",
    "The current probe position can be accessed via the `.x` and `.y` class variables and changed by `.go_to()` method. "
   ]
  },
  {
   "cell_type": "code",
   "execution_count": null,
   "id": "single-tuner",
   "metadata": {},
   "outputs": [],
   "source": [
    "#print current probe position\n",
    "print(f'Current location: {mic_server.x, mic_server.y}')"
   ]
  },
  {
   "cell_type": "code",
   "execution_count": null,
   "id": "abroad-reset",
   "metadata": {},
   "outputs": [],
   "source": [
    "(array_list_spec, shape_spec, dtype_spec), (array_list_y, shape_y, dtype_y) = mic_server.get_spectrum()\n",
    "_spec_dim = np.array(array_list_spec, dtype=dtype_spec).reshape(shape_spec)\n",
    "_y = np.array(array_list_y, dtype=dtype_y).reshape(shape_y)\n",
    "res = (_spec_dim, _y)"
   ]
  },
  {
   "cell_type": "code",
   "execution_count": null,
   "id": "tamil-serbia",
   "metadata": {},
   "outputs": [],
   "source": [
    "fig, ax = plt.subplots(1, len(res[1]), figsize=(8, 1.5))\n",
    "for i in range(len(res[1])):\n",
    "    ax[i].plot(res[0], res[1][i])\n",
    "    ax[i].set_xticks([])\n",
    "    ax[i].set_yticks([])"
   ]
  },
  {
   "cell_type": "markdown",
   "id": "transsexual-nightlife",
   "metadata": {},
   "source": [
    "Change the measurement point and repeat the measurement."
   ]
  },
  {
   "cell_type": "code",
   "execution_count": null,
   "id": "south-shirt",
   "metadata": {},
   "outputs": [],
   "source": [
    "mic_server.go_to(x=1e-6, y=1e-6)\n",
    "print(f'Current location: {mic_server.x, mic_server.y}')\n",
    "\n",
    "(array_list_spec, shape_spec, dtype_spec), (array_list_y, shape_y, dtype_y) = mic_server.get_spectrum()\n",
    "_spec_dim = np.array(array_list_spec, dtype=dtype_spec).reshape(shape_spec)\n",
    "_y = np.array(array_list_y, dtype=dtype_y).reshape(shape_y)\n",
    "res = (_spec_dim, _y)"
   ]
  },
  {
   "cell_type": "code",
   "execution_count": null,
   "id": "registered-mumbai",
   "metadata": {},
   "outputs": [],
   "source": [
    "fig, ax = plt.subplots(1, len(res[1]), figsize=(8, 1.5))\n",
    "for i in range(len(res[1])):\n",
    "    ax[i].plot(res[0], res[1][i])\n",
    "    ax[i].set_xticks([])\n",
    "    ax[i].set_yticks([])"
   ]
  }
 ],
 "metadata": {
  "kernelspec": {
   "display_name": "aespm",
   "language": "python",
   "name": "aespm"
  },
  "language_info": {
   "codemirror_mode": {
    "name": "ipython",
    "version": 3
   },
   "file_extension": ".py",
   "mimetype": "text/x-python",
   "name": "python",
   "nbconvert_exporter": "python",
   "pygments_lexer": "ipython3",
   "version": "3.11.9"
  }
 },
 "nbformat": 4,
 "nbformat_minor": 5
}
