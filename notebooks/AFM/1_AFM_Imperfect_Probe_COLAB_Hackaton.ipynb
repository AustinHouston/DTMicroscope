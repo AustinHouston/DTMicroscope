{
 "cells": [
  {
   "cell_type": "markdown",
   "id": "fancy-antenna",
   "metadata": {},
   "source": [
    "# AFM Digital Twin: Imperfect Probe Example\n",
    "\n",
    "[![Open In Colab](https://colab.research.google.com/assets/colab-badge.svg)](https://colab.research.google.com/)\n",
    "\n",
    "\n",
    "## Task Overview\n",
    "\n",
    "Participants are invited to develop methods for recovering the **\"true\" image** from SPM scans affected by probe artifacts, such as variable probe sizes and double tips. \n",
    "\n",
    "---\n",
    "\n",
    "### **Key Question**\n",
    "\n",
    "> **Given a corrupted SPM image affected by probe artifacts, can we automatically detect these distortions and accurately reconstruct the original, undistorted image?**\n"
   ]
  },
  {
   "cell_type": "markdown",
   "id": "verified-instrumentation",
   "metadata": {},
   "source": [
    "# 1. Run server"
   ]
  },
  {
   "cell_type": "code",
   "execution_count": null,
   "id": "virtual-report",
   "metadata": {},
   "outputs": [],
   "source": [
    "!pip install pyro5\n",
    "!pip install scifireaders\n",
    "!pip install sidpy\n",
    "!pip install pynsid\n",
    "!pip install git+https://github.com/pycroscopy/DTMicroscope.git"
   ]
  },
  {
   "cell_type": "code",
   "execution_count": null,
   "id": "bibliographic-treasure",
   "metadata": {},
   "outputs": [],
   "source": [
    "!run_server_afm"
   ]
  },
  {
   "cell_type": "markdown",
   "id": "traditional-tours",
   "metadata": {},
   "source": [
    "# 2. Client side"
   ]
  },
  {
   "cell_type": "code",
   "execution_count": null,
   "id": "prostate-telling",
   "metadata": {},
   "outputs": [],
   "source": [
    "import matplotlib.pylab as plt\n",
    "import numpy as np\n",
    "import Pyro5.api\n",
    "from IPython.display import clear_output, display"
   ]
  },
  {
   "cell_type": "markdown",
   "id": "diagnostic-closer",
   "metadata": {},
   "source": [
    "## 2.1 Get data"
   ]
  },
  {
   "cell_type": "code",
   "execution_count": null,
   "id": "matched-director",
   "metadata": {},
   "outputs": [],
   "source": [
    "!wget https://github.com/pycroscopy/DTMicroscope/raw/boris_dev/DTMicroscope/test/datasets/dset_spm1.h5"
   ]
  },
  {
   "cell_type": "markdown",
   "id": "color-million",
   "metadata": {},
   "source": [
    "## 2.2 Register Data to the Digital twin"
   ]
  },
  {
   "cell_type": "code",
   "execution_count": null,
   "id": "handled-jefferson",
   "metadata": {},
   "outputs": [],
   "source": [
    "uri = \"PYRO:microscope.server@localhost:9092\" #port for the AFM DT 9092\n",
    "mic_server = Pyro5.api.Proxy(uri)\n",
    "import sys\n",
    "\n",
    "if 'google.colab' in sys.modules:\n",
    "    mic_server.initialize_microscope(\"AFM\", data_path = r\"dset_spm1.h5\")\n",
    "else:\n",
    "    mic_server.initialize_microscope(\"AFM\", data_path = \"../test/datasets/dset_spm1.h5\")\n",
    "mic_server.setup_microscope(data_source = 'Compound_Dataset_1')#upload dataset?\n",
    "mic_server.get_dataset_info()"
   ]
  },
  {
   "cell_type": "markdown",
   "id": "great-drunk",
   "metadata": {},
   "source": [
    "## Artefact 0: Blunt 'needle' with an offset tip"
   ]
  },
  {
   "cell_type": "code",
   "execution_count": null,
   "id": "guided-merit",
   "metadata": {},
   "outputs": [],
   "source": [
    "#tip_radius\n",
    "r_tip = np.random.uniform(0.2, 0.8)\n",
    "\n",
    "#center (tip location)\n",
    "center = [np.random.uniform(0.2, 0.8), np.random.uniform(0.2, 0.8)]\n",
    "\n",
    "#kwargs for the blunt needle effect\n",
    "kwargs = {'effect': 'real_tip', 'r_tip': r_tip, 'center': center}\n",
    "\n",
    "#several effects can be combined in the mod_dict list\n",
    "mod_dict = [{'effect': 'real_tip', 'kwargs': kwargs},]"
   ]
  },
  {
   "cell_type": "code",
   "execution_count": null,
   "id": "painful-berkeley",
   "metadata": {},
   "outputs": [],
   "source": [
    "fig, ax = plt.subplots(1, 2, figsize=(7,3))\n",
    "\n",
    "ax[0].imshow(dat[0].T, cmap='cividis', origin='lower')\n",
    "ax[0].set_title('Ground truth\\n(not available)')\n",
    "ax[1].imshow(dat0[0].T, cmap='cividis', origin='lower')\n",
    "ax[1].set_title('Corrupted image')"
   ]
  },
  {
   "cell_type": "markdown",
   "id": "meaning-syntax",
   "metadata": {},
   "source": [
    "## Artefact 1: Tip doubling"
   ]
  },
  {
   "cell_type": "code",
   "execution_count": null,
   "id": "killing-piece",
   "metadata": {},
   "outputs": [],
   "source": [
    "# r_tip: Sizes of both tips in a double-tip needle configuration\n",
    "# center: Positions of each tip in the double-tip needle\n",
    "# length_coef: Relative lengths of each tip in the double-tip needle, indicating proximity to the surface\n",
    "\n",
    "kwargs = {'r_tip': [0.1, 0.05], 'center': [[0.2, 0.5], [0.6, 0.55]], 'length_coef': [1, 0.8]}\n",
    "\n",
    "mod_dict = [{'effect': 'tip_doubling', 'kwargs': kwargs},]"
   ]
  },
  {
   "cell_type": "markdown",
   "id": "prepared-mouse",
   "metadata": {},
   "source": [
    "The attribute direction specifies the fast scanning axis, which can be either horizontal or vertical."
   ]
  },
  {
   "cell_type": "code",
   "execution_count": null,
   "id": "imported-basin",
   "metadata": {},
   "outputs": [],
   "source": [
    "#ground truth scan topography\n",
    "array_list, shape, dtype  =  mic_server.get_scan(channels=['HeightRetrace',], modification=None)\n",
    "dat =  np.array(array_list, dtype=dtype).reshape(shape)\n",
    "\n",
    "# Corrupted scan topography with the fast scan axis oriented horizontally\n",
    "array_list, shape, dtype  =  mic_server.get_scan(channels=['HeightRetrace',], modification=mod_dict, direction='horizontal')\n",
    "dat0 =  np.array(array_list, dtype=dtype).reshape(shape)\n",
    "\n",
    "# Corrupted scan topography with the fast scan axis oriented vertically\n",
    "array_list, shape, dtype  =  mic_server.get_scan(channels=['HeightRetrace',], modification=mod_dict, direction='vertical')\n",
    "dat1 =  np.array(array_list, dtype=dtype).reshape(shape)\n",
    "dat1.shape"
   ]
  },
  {
   "cell_type": "code",
   "execution_count": null,
   "id": "handy-heaven",
   "metadata": {},
   "outputs": [],
   "source": [
    "fig, ax = plt.subplots(1, 3, figsize=(10,3))\n",
    "\n",
    "ax[0].imshow(dat[0].T, cmap='cividis', origin='lower')\n",
    "ax[0].set_title('Ground truth\\n(not available)')\n",
    "ax[1].imshow(dat0[0].T, cmap='cividis', origin='lower')\n",
    "ax[1].set_title('Tip doubling\\nfast axis: horizontal')\n",
    "ax[2].imshow(dat1[0].T, cmap='cividis', origin='lower')\n",
    "ax[2].set_title('Tip doubling\\nfast axis: vertical')"
   ]
  }
 ],
 "metadata": {
  "kernelspec": {
   "display_name": "aespm",
   "language": "python",
   "name": "aespm"
  },
  "language_info": {
   "codemirror_mode": {
    "name": "ipython",
    "version": 3
   },
   "file_extension": ".py",
   "mimetype": "text/x-python",
   "name": "python",
   "nbconvert_exporter": "python",
   "pygments_lexer": "ipython3",
   "version": "3.11.9"
  }
 },
 "nbformat": 4,
 "nbformat_minor": 5
}
