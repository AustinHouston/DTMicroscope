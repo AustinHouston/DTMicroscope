{
 "cells": [
  {
   "cell_type": "markdown",
   "metadata": {},
   "source": [
    "# Datasets: Several nanoparticles - EELS spectrum image\n",
    "\n",
    "[![Open In Colab](https://colab.research.google.com/assets/colab-badge.svg)](https://colab.research.google.com/github/pycroscopy/DTMicroscope/blob/main/data/STEM_MoS2_monolayer_Data.ipynb)\n",
    "\n",
    "\n",
    "\n",
    "We will show you where to find the data, how to register it on the digital microscope, and how to explore it offline.\n",
    "\n",
    "**This notebook will be continuously updated with more datasets in due course, before the hackathon begins.**\n",
    "\n",
    "By: Utkarsh Pratiush (adapted from PZT_Data.ipynb by Rama Vasudevan)\n",
    "\n"
   ]
  },
  {
   "cell_type": "markdown",
   "metadata": {},
   "source": [
    "# 1. Run server"
   ]
  },
  {
   "cell_type": "code",
   "execution_count": null,
   "metadata": {},
   "outputs": [],
   "source": [
    "!pip install pyro5\n",
    "!pip install scifireaders\n",
    "!pip install sidpy\n",
    "!pip install pynsid\n",
    "!pip install git+https://github.com/pycroscopy/DTMicroscope.git"
   ]
  },
  {
   "cell_type": "code",
   "execution_count": null,
   "metadata": {},
   "outputs": [],
   "source": [
    "!run_server_stem"
   ]
  },
  {
   "cell_type": "markdown",
   "metadata": {},
   "source": [
    "# 2. Client side"
   ]
  },
  {
   "cell_type": "code",
   "execution_count": null,
   "metadata": {},
   "outputs": [],
   "source": [
    "import matplotlib.pylab as plt\n",
    "import numpy as np\n",
    "import Pyro5.api\n",
    "from IPython.display import clear_output, display"
   ]
  },
  {
   "cell_type": "code",
   "execution_count": null,
   "metadata": {},
   "outputs": [],
   "source": [
    "# Connect to the microscope server\n",
    "uri = \"PYRO:microscope.server@localhost:9091\"\n",
    "mic_server = Pyro5.api.Proxy(uri)"
   ]
  },
  {
   "cell_type": "markdown",
   "metadata": {},
   "source": [
    "# 3. Combined dataset [link](https://drive.google.com/drive/folders/1qUwUopeyzAXqVQ3ROs3XEBmW9yY9Yrn6?usp=drive_link) \n",
    "- credits: Kevin Roccapriore\n",
    "\n",
    "- contains:\n",
    "    - Spectrum image datasets (Recommended task: strucutre property relationship, active learning) - 12 folders\n"
   ]
  },
  {
   "cell_type": "markdown",
   "metadata": {},
   "source": [
    "### 3a) Load Spectrum images: \n",
    "\n",
    "#### first visit the link in browser and look at the png's - copy the link of the \".h5\" dataset\n",
    "\n",
    "- example : for below code cell we use id = 1HP2GMTWEgIrxX5Z_5l7vxB5-VQ_HXwpf  as copied from the url: https://drive.google.com/file/d/1HP2GMTWEgIrxX5Z_5l7vxB5-VQ_HXwpf/view?usp=drive_link"
   ]
  },
  {
   "cell_type": "code",
   "execution_count": null,
   "metadata": {},
   "outputs": [],
   "source": [
    "!gdown --id 16Vfw-JQNEgMnPdbSWBHhspaYAenrA49_ -O data.h5\n",
    "# Initialize microscope and register data\n",
    "mic_server.initialize_microscope(\"STEM\")\n",
    "mic_server.register_data(\"data.h5\")\n",
    "# Get overview image\n",
    "array_list, shape, dtype = mic_server.get_overview_image()\n",
    "im_array = np.array(array_list, dtype=dtype).reshape(shape)\n",
    "\n",
    "# Display the overview image\n",
    "plt.imshow(im_array)\n",
    "plt.axis(\"off\")\n",
    "plt.title(\"Overview Image\")\n",
    "plt.show()\n",
    "\n"
   ]
  },
  {
   "cell_type": "markdown",
   "metadata": {},
   "source": [
    "##### You can follow following notebooks after this: \n",
    "- notebooks/STEM/1_stem_eels_clustering_COLAB-Hackathon.ipynb\n",
    "- notebooks/STEM/2_active_learning_dkl_COLAB-Hackathon.ipynb\n",
    "- notebooks/STEM/3_structure_property_COLAB_Hackathon.ipynb"
   ]
  }
 ],
 "metadata": {
  "kernelspec": {
   "display_name": "gerd_course",
   "language": "python",
   "name": "python3"
  },
  "language_info": {
   "codemirror_mode": {
    "name": "ipython",
    "version": 3
   },
   "file_extension": ".py",
   "mimetype": "text/x-python",
   "name": "python",
   "nbconvert_exporter": "python",
   "pygments_lexer": "ipython3",
   "version": "3.10.0"
  }
 },
 "nbformat": 4,
 "nbformat_minor": 2
}
