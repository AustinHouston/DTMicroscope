{
 "cells": [
  {
   "cell_type": "markdown",
   "id": "forward-disaster",
   "metadata": {},
   "source": [
    "# Datasets: Lead Titanate and Lead Zirconate Titanate (PTO and PZT)\n",
    "\n",
    "[![Open In Colab](https://colab.research.google.com/assets/colab-badge.svg)](https://colab.research.google.com/github/pycroscopy/DTMicroscope/blob/main/data/PZT_Data.ipynb)\n",
    "\n",
    "\n",
    "This notebook explains how to access several available datasets pertaining to ferroelectric thin films of PZT and PTO.\n",
    "\n",
    "We will show you where to find the data, how to register it on the digital microscope, and how to explore it offline.\n",
    "\n",
    "**This notebook will be continuously updated with more datasets in due course, before the hackathon begins.**\n",
    "\n",
    "By: Rama Vasudevan\n",
    "\n"
   ]
  },
  {
   "cell_type": "markdown",
   "id": "actual-financing",
   "metadata": {},
   "source": [
    "# 1. Run server"
   ]
  },
  {
   "cell_type": "code",
   "execution_count": null,
   "id": "biological-liberia",
   "metadata": {},
   "outputs": [],
   "source": [
    "!pip install pyro5\n",
    "!pip install scifireaders\n",
    "!pip install sidpy\n",
    "!pip install pynsid\n",
    "!pip install git+https://github.com/pycroscopy/DTMicroscope.git"
   ]
  },
  {
   "cell_type": "code",
   "execution_count": null,
   "id": "completed-player",
   "metadata": {},
   "outputs": [],
   "source": [
    "!run_server_afm"
   ]
  },
  {
   "cell_type": "markdown",
   "id": "deluxe-shannon",
   "metadata": {},
   "source": [
    "# 2. Client side"
   ]
  },
  {
   "cell_type": "code",
   "execution_count": 3,
   "id": "imperial-assignment",
   "metadata": {},
   "outputs": [],
   "source": [
    "import matplotlib.pylab as plt\n",
    "import numpy as np\n",
    "import Pyro5.api\n",
    "from IPython.display import clear_output, display"
   ]
  },
  {
   "cell_type": "markdown",
   "id": "sacred-patient",
   "metadata": {},
   "source": [
    "## 2.1 Download Imaging Data\n",
    "\n",
    "We can clone the repository to get the data files associated with PZT/PTO. This dataset consists of different Piezoresponse Force Microscopy (PFM) Images"
   ]
  },
  {
   "cell_type": "code",
   "execution_count": null,
   "id": "selective-roulette",
   "metadata": {},
   "outputs": [],
   "source": [
    "!git clone https://github.com/pycroscopy/DTMicroscope.git\n",
    "\n",
    "import os\n",
    "os.listdir('DTMicroscope/data/AFM') #list available images"
   ]
  },
  {
   "cell_type": "markdown",
   "id": "pregnant-assessment",
   "metadata": {},
   "source": [
    "## 2.2 Register Data to the Digital twin"
   ]
  },
  {
   "cell_type": "code",
   "execution_count": null,
   "id": "surrounded-hampton",
   "metadata": {},
   "outputs": [],
   "source": [
    "uri = \"PYRO:microscope.server@localhost:9092\" #port for the AFM DT 9092\n",
    "mic_server = Pyro5.api.Proxy(uri)\n",
    "import sys\n",
    "\n",
    "if 'google.colab' in sys.modules:\n",
    "    mic_server.initialize_microscope(\"AFM\", data_path = r\"DTMicroscope/data/AFM/PZT_final0001.h5\")\n",
    "else:\n",
    "    mic_server.initialize_microscope(\"AFM\", data_path = \"../test/datasets/dset_spm1.h5\")\n",
    "mic_server.setup_microscope(data_source = 'Compound_Dataset_1')#upload dataset?\n",
    "mic_server.get_dataset_info()"
   ]
  },
  {
   "cell_type": "markdown",
   "id": "modern-thought",
   "metadata": {},
   "source": [
    "# 3. Basic AFM operations"
   ]
  },
  {
   "cell_type": "markdown",
   "id": "casual-preliminary",
   "metadata": {},
   "source": [
    "## 3.1 .get_scan()\n",
    "\n",
    "The `get_scan()` function retrieves scan data from the dataset, with the option to filter by specific channels. Use the `channels` attribute to specify desired channels, allowing you to query particular signals or data channels. For details on available channels, refer to `.get_dataset_info()`.\n",
    "\n",
    "The `direction` parameter specifies the fast-scanning axis, while the `trace` parameter emulates data acquisition on either the forward or backward pass. These settings are essential for accurately simulating the behavior of the real PID during scanning.\n",
    "\n",
    "The `modification` parameter allows the application of various imperfections to simulate realistic scanning conditions, such as the effects of a broken tip or non-ideal PID performance."
   ]
  },
  {
   "cell_type": "code",
   "execution_count": null,
   "id": "guided-skirt",
   "metadata": {},
   "outputs": [],
   "source": [
    "#scan without modification\n",
    "array_list, shape, dtype  =  mic_server.get_scan(channels=['HeightRetrace', 'Phase1Retrace'], \n",
    "                                                 modification=None,\n",
    "                                                 direction = 'horizontal',\n",
    "                                                 trace = 'forward')\n",
    "dat =  np.array(array_list, dtype=dtype).reshape(shape)\n",
    "dat.shape"
   ]
  },
  {
   "cell_type": "code",
   "execution_count": null,
   "id": "resident-creation",
   "metadata": {},
   "outputs": [],
   "source": [
    "fig, ax = plt.subplots(1, 2, figsize=(7,3))\n",
    "\n",
    "ax[0].imshow(dat[0].T, cmap='cividis', origin='lower')\n",
    "ax[0].set_title('HeightRetrace')\n",
    "ax[1].imshow(dat[1].T, cmap='cividis', origin='lower')\n",
    "ax[1].set_title('Phase1Retrace')"
   ]
  }
 ],
 "metadata": {
  "kernelspec": {
   "display_name": "aespm",
   "language": "python",
   "name": "aespm"
  },
  "language_info": {
   "codemirror_mode": {
    "name": "ipython",
    "version": 3
   },
   "file_extension": ".py",
   "mimetype": "text/x-python",
   "name": "python",
   "nbconvert_exporter": "python",
   "pygments_lexer": "ipython3",
   "version": "3.11.9"
  }
 },
 "nbformat": 4,
 "nbformat_minor": 5
}
